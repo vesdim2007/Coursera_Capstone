{
  "nbformat": 4,
  "nbformat_minor": 0,
  "metadata": {
    "colab": {
      "name": "Final_project_report.ipynb",
      "provenance": [],
      "authorship_tag": "ABX9TyMtoqpGOEFG/C1WUS+OLKYm",
      "include_colab_link": true
    },
    "kernelspec": {
      "name": "python3",
      "display_name": "Python 3"
    }
  },
  "cells": [
    {
      "cell_type": "markdown",
      "metadata": {
        "id": "view-in-github",
        "colab_type": "text"
      },
      "source": [
        "<a href=\"https://colab.research.google.com/github/vesdim2007/Coursera_Capstone/blob/master/Final_project_report.ipynb\" target=\"_parent\"><img src=\"https://colab.research.google.com/assets/colab-badge.svg\" alt=\"Open In Colab\"/></a>"
      ]
    },
    {
      "cell_type": "markdown",
      "metadata": {
        "id": "3GiAzFD0iycc",
        "colab_type": "text"
      },
      "source": [
        "\n",
        "\n",
        "**1.   INTRODUCTION**\n",
        "Investment in Real Estate will always be considered as one of the best investment options. For long-term investors, London property is less volatile than the stock market, produces as good as or better income yield, and higher capital growth in the good times and lower and less frequent falls in value in the poor times. In order to find the best borough to invest, the Greater London area is explored through clustering and segmentation based on the London Post code, demographic data and borough profiles.\n",
        "\n",
        "\n",
        "\n"
      ]
    },
    {
      "cell_type": "markdown",
      "metadata": {
        "id": "dX3QHNK9i-z5",
        "colab_type": "text"
      },
      "source": [
        "\n",
        "\n",
        "**2. DATA**\n",
        "We are going to combine the data from the List of areas in Greater London, dataset with the profiles of boroughs and Foursquare explore api in order to cluster and segment the areas based on their Postal Codes and analyze the different parameters as population, crimes, venues, etc to create a Decision for the best borough to invest in Real Estate.\n",
        "\n",
        "\n",
        "\n"
      ]
    },
    {
      "cell_type": "code",
      "metadata": {
        "id": "N2ywc3kOj64T",
        "colab_type": "code",
        "colab": {}
      },
      "source": [
        ""
      ],
      "execution_count": 0,
      "outputs": []
    }
  ]
}