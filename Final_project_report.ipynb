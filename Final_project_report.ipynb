{
  "nbformat": 4,
  "nbformat_minor": 0,
  "metadata": {
    "colab": {
      "name": "Final_project_report.ipynb",
      "provenance": [],
      "collapsed_sections": []
    },
    "kernelspec": {
      "name": "python3",
      "display_name": "Python 3"
    }
  },
  "cells": [
    {
      "cell_type": "markdown",
      "metadata": {
        "id": "3GiAzFD0iycc",
        "colab_type": "text"
      },
      "source": [
        "\n",
        "\n",
        "**1.   INTRODUCTION**\n",
        "\n",
        "\n",
        "\n",
        "\n",
        "\n"
      ]
    },
    {
      "cell_type": "markdown",
      "metadata": {
        "id": "RHIoQNZmELN7",
        "colab_type": "text"
      },
      "source": [
        "Investment in Real Estate will always be considered as one of the best investment options. For long-term investors, London property is less volatile than the stock market, produces as good as or better income yield, and higher capital growth in the good times and lower and less frequent falls in value in the poor times. In order to find the best borough to invest, the Greater London area is explored through clustering and segmentation based on the London Post code, demographic data and borough profiles."
      ]
    },
    {
      "cell_type": "markdown",
      "metadata": {
        "id": "EwUSlUpMEa1f",
        "colab_type": "text"
      },
      "source": [
        "The target audience of this analysis are mid-class households, who search for optimal balance between house price and the best quality borough, based on the following criterias:\n"
      ]
    },
    {
      "cell_type": "markdown",
      "metadata": {
        "id": "HRQqWu7cE2s3",
        "colab_type": "text"
      },
      "source": [
        "Index | Feature \n",
        "--- | --- \n",
        "1 | Population\n",
        "2 | Density\n",
        "3 | Business opportunities\n",
        "4 | Crime rate\n",
        "5 | Average Income\n",
        "6 | Median House Price\n",
        "7 | Owned homes rate\n",
        "8 | Employment rate\n",
        "9 | Transportation accessability\n",
        "10 | Venues\n"
      ]
    },
    {
      "cell_type": "markdown",
      "metadata": {
        "id": "dX3QHNK9i-z5",
        "colab_type": "text"
      },
      "source": [
        "\n",
        "\n",
        "**2. DATA**\n",
        "\n",
        "\n",
        "\n",
        "\n"
      ]
    },
    {
      "cell_type": "markdown",
      "metadata": {
        "id": "SMtOkSGVbhd8",
        "colab_type": "text"
      },
      "source": [
        "The main data source I have used is https://data.london.gov.uk/.\n",
        "On this site there are different datasets about London and its districts. I have used the borough profiles dataset and London postcodes, which were further combined for the needs of the analysis. In order to get the venues, I have used the FourSquare explore api: https://foursquare.com/.\n",
        "The generated and combined dataset was used for clustering and segmenting the boroughs/districts/ in London in order to determine and recommend the best one for invest in new house the target audience.\n",
        "![alt text](https://github.com/vesdim2007/Coursera_Capstone/blob/master/assets/Screenshot%202020-05-01%20at%2012.10.07.png?raw=true) "
      ]
    },
    {
      "cell_type": "markdown",
      "metadata": {
        "id": "P_xgIj20dHG4",
        "colab_type": "text"
      },
      "source": [
        "**3. METHODOLOGY**"
      ]
    },
    {
      "cell_type": "markdown",
      "metadata": {
        "id": "aS9PKr6UdNeA",
        "colab_type": "text"
      },
      "source": [
        "The collected data was processed, analyzed and combine using various statistical methods for calculating the housing price segmentation, average rate per features and normalizing the final dataset for the need of the used Machine Learning model - KMean Clustering. It is very popular unsupervised ML method for creating of clusters of boroughs with similar data, based upon a defined set of features.\n",
        "In order to determine the optimal number of clusters, I have used Elbow Point method, which result was 3, as shown below:\n",
        "\n",
        "\n",
        "\n",
        "\n",
        "\n",
        "\n",
        "\n"
      ]
    },
    {
      "cell_type": "markdown",
      "metadata": {
        "id": "M4JnPuCejfvl",
        "colab_type": "text"
      },
      "source": [
        "![alt text](https://github.com/vesdim2007/Coursera_Capstone/blob/master/assets/Screenshot%202020-05-01%20at%2012.11.12.png?raw=true)"
      ]
    },
    {
      "cell_type": "markdown",
      "metadata": {
        "id": "PHppOK_dlUnv",
        "colab_type": "text"
      },
      "source": [
        "**4. RESULT**\n"
      ]
    },
    {
      "cell_type": "markdown",
      "metadata": {
        "id": "3LVegEtWmaXA",
        "colab_type": "text"
      },
      "source": [
        "![alt text](https://github.com/vesdim2007/Coursera_Capstone/blob/master/assets/Screenshot%202020-05-01%20at%2011.33.48.png?raw=true)"
      ]
    },
    {
      "cell_type": "markdown",
      "metadata": {
        "id": "yDV7H7NFmlYu",
        "colab_type": "text"
      },
      "source": [
        "The map above shows the distribution of the 3 clusters - result of the model on London's districts. \n",
        "From the total 33 boroughs in London, 5 were classified in Cluster 2, which is the median cluster of the three, 3 districts were segmented within Cluster 1, the cluster with highest median housing prices /not in ineterst for our target audience/ and the rest were classified to Cluster 0 with prices below the mid level segment. \n",
        "The selected cluster is Cluster 2, which is shown with red color on the map. The median housing price of this cluster is between 400K GBP and 600K GBP which is on the mid and upper-mid segment of our price classification."
      ]
    },
    {
      "cell_type": "markdown",
      "metadata": {
        "id": "ifvGBOBqvPSZ",
        "colab_type": "text"
      },
      "source": [
        "**5. DISCUSSION**"
      ]
    },
    {
      "cell_type": "markdown",
      "metadata": {
        "id": "WoO3z7j1u5Ae",
        "colab_type": "text"
      },
      "source": [
        "Further I have observed the districts, which were segmented in this cluster: \n",
        "![alt text](https://github.com/vesdim2007/Coursera_Capstone/blob/master/assets/Screenshot%202020-05-01%20at%2012.36.52.png?raw=true)"
      ]
    },
    {
      "cell_type": "markdown",
      "metadata": {
        "id": "XmRc1ZUsxAzn",
        "colab_type": "text"
      },
      "source": [
        "The first 3 of them have the high number of venues, but also high Crime rates. From the last two districts, Richmond upon Thames has lower Crime rate, high percentage of owned homes and employment rate. Also this is the district with the highest Life satisfaction score, therefore this is the recommended district to invest in house for a mid class household.\n",
        "\n",
        "Final recommendation: **Richmond upon Thames**."
      ]
    },
    {
      "cell_type": "code",
      "metadata": {
        "id": "MtSsW4NtxX5h",
        "colab_type": "code",
        "colab": {}
      },
      "source": [
        ""
      ],
      "execution_count": 0,
      "outputs": []
    }
  ]
}